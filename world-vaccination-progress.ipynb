{
 "cells": [
  {
   "cell_type": "markdown",
   "id": "b5566279",
   "metadata": {
    "papermill": {
     "duration": 0.028086,
     "end_time": "2021-10-12T05:39:59.186733",
     "exception": false,
     "start_time": "2021-10-12T05:39:59.158647",
     "status": "completed"
    },
    "tags": []
   },
   "source": [
    "# Planning the Project\n",
    "### The Covid-19 event has been a very troubling time for all of us around the world. Due to this, I plan to use this project to conduct a study on the amount of people getting vaccinated and leverage off fear that some people have about the virus. With this I hope to share this with family members and close friends that getting fully vaccinated is one step closer to helping combat the virus."
   ]
  },
  {
   "cell_type": "markdown",
   "id": "77e8f661",
   "metadata": {
    "papermill": {
     "duration": 0.025609,
     "end_time": "2021-10-12T05:39:59.241305",
     "exception": false,
     "start_time": "2021-10-12T05:39:59.215696",
     "status": "completed"
    },
    "tags": []
   },
   "source": [
    "## Questions worth discovering\n",
    "#### - How has the Covid Vaccination Process progressed throughout the year?\n",
    "#### - What does the total vaccination progress for certain countries look like? i.e U.S, Mexico, Canada, China, UK, etc.\n",
    "#### -What does the daily vaccination progress look like for certain countries?"
   ]
  },
  {
   "cell_type": "markdown",
   "id": "a5fcff3a",
   "metadata": {
    "papermill": {
     "duration": 0.025425,
     "end_time": "2021-10-12T05:39:59.293056",
     "exception": false,
     "start_time": "2021-10-12T05:39:59.267631",
     "status": "completed"
    },
    "tags": []
   },
   "source": [
    "## Loading in libraries/modules"
   ]
  },
  {
   "cell_type": "code",
   "execution_count": 4,
   "id": "a1211f90",
   "metadata": {
    "execution": {
     "iopub.execute_input": "2021-10-12T05:39:59.355621Z",
     "iopub.status.busy": "2021-10-12T05:39:59.354884Z",
     "iopub.status.idle": "2021-10-12T05:40:00.242619Z",
     "shell.execute_reply": "2021-10-12T05:40:00.241771Z",
     "shell.execute_reply.started": "2021-10-11T22:55:42.951471Z"
    },
    "papermill": {
     "duration": 0.924107,
     "end_time": "2021-10-12T05:40:00.242792",
     "exception": false,
     "start_time": "2021-10-12T05:39:59.318685",
     "status": "completed"
    },
    "tags": []
   },
   "outputs": [],
   "source": [
    "#imports all the libraries needed for the data cleaning and analysis\n",
    "import numpy as np\n",
    "import pandas as pd\n",
    "import matplotlib.pyplot as plt\n",
    "import seaborn as sns\n",
    "\n",
    "import warnings\n",
    "warnings.filterwarnings('ignore')"
   ]
  },
  {
   "cell_type": "code",
   "execution_count": 5,
   "id": "3003e0c1",
   "metadata": {
    "execution": {
     "iopub.execute_input": "2021-10-12T05:40:00.301914Z",
     "iopub.status.busy": "2021-10-12T05:40:00.301218Z",
     "iopub.status.idle": "2021-10-12T05:40:00.612697Z",
     "shell.execute_reply": "2021-10-12T05:40:00.612063Z",
     "shell.execute_reply.started": "2021-10-11T22:55:42.960415Z"
    },
    "papermill": {
     "duration": 0.341901,
     "end_time": "2021-10-12T05:40:00.612848",
     "exception": false,
     "start_time": "2021-10-12T05:40:00.270947",
     "status": "completed"
    },
    "tags": []
   },
   "outputs": [],
   "source": [
    "#Reads in the csv file and puts the data in a dataframe\n",
    "vaccine_data = pd.read_csv('country_vaccinations.csv')"
   ]
  },
  {
   "cell_type": "markdown",
   "id": "6907e017",
   "metadata": {
    "papermill": {
     "duration": 0.025357,
     "end_time": "2021-10-12T05:40:00.664110",
     "exception": false,
     "start_time": "2021-10-12T05:40:00.638753",
     "status": "completed"
    },
    "tags": []
   },
   "source": [
    "## Data Pre-Processing\n",
    "### Getting a glimpse of the data"
   ]
  },
  {
   "cell_type": "code",
   "execution_count": 6,
   "id": "1631b4cf",
   "metadata": {
    "execution": {
     "iopub.execute_input": "2021-10-12T05:40:00.726502Z",
     "iopub.status.busy": "2021-10-12T05:40:00.725786Z",
     "iopub.status.idle": "2021-10-12T05:40:00.781520Z",
     "shell.execute_reply": "2021-10-12T05:40:00.782024Z",
     "shell.execute_reply.started": "2021-10-11T22:55:43.156191Z"
    },
    "papermill": {
     "duration": 0.092234,
     "end_time": "2021-10-12T05:40:00.782191",
     "exception": false,
     "start_time": "2021-10-12T05:40:00.689957",
     "status": "completed"
    },
    "tags": []
   },
   "outputs": [
    {
     "data": {
      "text/html": [
       "<div>\n",
       "<style scoped>\n",
       "    .dataframe tbody tr th:only-of-type {\n",
       "        vertical-align: middle;\n",
       "    }\n",
       "\n",
       "    .dataframe tbody tr th {\n",
       "        vertical-align: top;\n",
       "    }\n",
       "\n",
       "    .dataframe thead th {\n",
       "        text-align: right;\n",
       "    }\n",
       "</style>\n",
       "<table border=\"1\" class=\"dataframe\">\n",
       "  <thead>\n",
       "    <tr style=\"text-align: right;\">\n",
       "      <th></th>\n",
       "      <th>total_vaccinations</th>\n",
       "      <th>people_vaccinated</th>\n",
       "      <th>people_fully_vaccinated</th>\n",
       "      <th>daily_vaccinations_raw</th>\n",
       "      <th>daily_vaccinations</th>\n",
       "      <th>total_vaccinations_per_hundred</th>\n",
       "      <th>people_vaccinated_per_hundred</th>\n",
       "      <th>people_fully_vaccinated_per_hundred</th>\n",
       "      <th>daily_vaccinations_per_million</th>\n",
       "    </tr>\n",
       "  </thead>\n",
       "  <tbody>\n",
       "    <tr>\n",
       "      <th>count</th>\n",
       "      <td>3.487200e+04</td>\n",
       "      <td>3.338700e+04</td>\n",
       "      <td>3.077400e+04</td>\n",
       "      <td>2.840500e+04</td>\n",
       "      <td>6.596400e+04</td>\n",
       "      <td>34872.000000</td>\n",
       "      <td>33387.000000</td>\n",
       "      <td>30774.000000</td>\n",
       "      <td>65964.000000</td>\n",
       "    </tr>\n",
       "    <tr>\n",
       "      <th>mean</th>\n",
       "      <td>3.357830e+07</td>\n",
       "      <td>1.342228e+07</td>\n",
       "      <td>9.778293e+06</td>\n",
       "      <td>2.772051e+05</td>\n",
       "      <td>1.364650e+05</td>\n",
       "      <td>62.694791</td>\n",
       "      <td>34.968768</td>\n",
       "      <td>28.674557</td>\n",
       "      <td>3495.352996</td>\n",
       "    </tr>\n",
       "    <tr>\n",
       "      <th>std</th>\n",
       "      <td>1.730459e+08</td>\n",
       "      <td>5.276935e+07</td>\n",
       "      <td>3.831746e+07</td>\n",
       "      <td>1.273848e+06</td>\n",
       "      <td>8.208942e+05</td>\n",
       "      <td>56.275645</td>\n",
       "      <td>27.648268</td>\n",
       "      <td>26.033862</td>\n",
       "      <td>4160.725120</td>\n",
       "    </tr>\n",
       "    <tr>\n",
       "      <th>min</th>\n",
       "      <td>0.000000e+00</td>\n",
       "      <td>0.000000e+00</td>\n",
       "      <td>1.000000e+00</td>\n",
       "      <td>0.000000e+00</td>\n",
       "      <td>0.000000e+00</td>\n",
       "      <td>0.000000</td>\n",
       "      <td>0.000000</td>\n",
       "      <td>0.000000</td>\n",
       "      <td>0.000000</td>\n",
       "    </tr>\n",
       "    <tr>\n",
       "      <th>25%</th>\n",
       "      <td>3.925522e+05</td>\n",
       "      <td>2.778055e+05</td>\n",
       "      <td>1.656195e+05</td>\n",
       "      <td>5.371000e+03</td>\n",
       "      <td>1.005000e+03</td>\n",
       "      <td>10.210000</td>\n",
       "      <td>7.720000</td>\n",
       "      <td>4.202500</td>\n",
       "      <td>679.000000</td>\n",
       "    </tr>\n",
       "    <tr>\n",
       "      <th>50%</th>\n",
       "      <td>2.563082e+06</td>\n",
       "      <td>1.639806e+06</td>\n",
       "      <td>1.140760e+06</td>\n",
       "      <td>2.631000e+04</td>\n",
       "      <td>7.712000e+03</td>\n",
       "      <td>48.125000</td>\n",
       "      <td>31.580000</td>\n",
       "      <td>21.490000</td>\n",
       "      <td>2280.500000</td>\n",
       "    </tr>\n",
       "    <tr>\n",
       "      <th>75%</th>\n",
       "      <td>1.207973e+07</td>\n",
       "      <td>6.512414e+06</td>\n",
       "      <td>5.444750e+06</td>\n",
       "      <td>1.272430e+05</td>\n",
       "      <td>4.436100e+04</td>\n",
       "      <td>108.822500</td>\n",
       "      <td>60.290000</td>\n",
       "      <td>51.717500</td>\n",
       "      <td>5080.000000</td>\n",
       "    </tr>\n",
       "    <tr>\n",
       "      <th>max</th>\n",
       "      <td>2.769530e+09</td>\n",
       "      <td>1.225000e+09</td>\n",
       "      <td>1.193466e+09</td>\n",
       "      <td>2.474100e+07</td>\n",
       "      <td>2.242429e+07</td>\n",
       "      <td>321.000000</td>\n",
       "      <td>122.180000</td>\n",
       "      <td>118.860000</td>\n",
       "      <td>117497.000000</td>\n",
       "    </tr>\n",
       "  </tbody>\n",
       "</table>\n",
       "</div>"
      ],
      "text/plain": [
       "       total_vaccinations  people_vaccinated  people_fully_vaccinated  \\\n",
       "count        3.487200e+04       3.338700e+04             3.077400e+04   \n",
       "mean         3.357830e+07       1.342228e+07             9.778293e+06   \n",
       "std          1.730459e+08       5.276935e+07             3.831746e+07   \n",
       "min          0.000000e+00       0.000000e+00             1.000000e+00   \n",
       "25%          3.925522e+05       2.778055e+05             1.656195e+05   \n",
       "50%          2.563082e+06       1.639806e+06             1.140760e+06   \n",
       "75%          1.207973e+07       6.512414e+06             5.444750e+06   \n",
       "max          2.769530e+09       1.225000e+09             1.193466e+09   \n",
       "\n",
       "       daily_vaccinations_raw  daily_vaccinations  \\\n",
       "count            2.840500e+04        6.596400e+04   \n",
       "mean             2.772051e+05        1.364650e+05   \n",
       "std              1.273848e+06        8.208942e+05   \n",
       "min              0.000000e+00        0.000000e+00   \n",
       "25%              5.371000e+03        1.005000e+03   \n",
       "50%              2.631000e+04        7.712000e+03   \n",
       "75%              1.272430e+05        4.436100e+04   \n",
       "max              2.474100e+07        2.242429e+07   \n",
       "\n",
       "       total_vaccinations_per_hundred  people_vaccinated_per_hundred  \\\n",
       "count                    34872.000000                   33387.000000   \n",
       "mean                        62.694791                      34.968768   \n",
       "std                         56.275645                      27.648268   \n",
       "min                          0.000000                       0.000000   \n",
       "25%                         10.210000                       7.720000   \n",
       "50%                         48.125000                      31.580000   \n",
       "75%                        108.822500                      60.290000   \n",
       "max                        321.000000                     122.180000   \n",
       "\n",
       "       people_fully_vaccinated_per_hundred  daily_vaccinations_per_million  \n",
       "count                         30774.000000                    65964.000000  \n",
       "mean                             28.674557                     3495.352996  \n",
       "std                              26.033862                     4160.725120  \n",
       "min                               0.000000                        0.000000  \n",
       "25%                               4.202500                      679.000000  \n",
       "50%                              21.490000                     2280.500000  \n",
       "75%                              51.717500                     5080.000000  \n",
       "max                             118.860000                   117497.000000  "
      ]
     },
     "execution_count": 6,
     "metadata": {},
     "output_type": "execute_result"
    }
   ],
   "source": [
    "#Gives a quick description of the data\n",
    "vaccine_data.describe()"
   ]
  },
  {
   "cell_type": "code",
   "execution_count": 7,
   "id": "8d032648",
   "metadata": {
    "execution": {
     "iopub.execute_input": "2021-10-12T05:40:00.840238Z",
     "iopub.status.busy": "2021-10-12T05:40:00.839599Z",
     "iopub.status.idle": "2021-10-12T05:40:00.843838Z",
     "shell.execute_reply": "2021-10-12T05:40:00.844423Z",
     "shell.execute_reply.started": "2021-10-11T22:55:43.211727Z"
    },
    "papermill": {
     "duration": 0.03472,
     "end_time": "2021-10-12T05:40:00.844593",
     "exception": false,
     "start_time": "2021-10-12T05:40:00.809873",
     "status": "completed"
    },
    "tags": []
   },
   "outputs": [
    {
     "data": {
      "text/plain": [
       "(66330, 15)"
      ]
     },
     "execution_count": 7,
     "metadata": {},
     "output_type": "execute_result"
    }
   ],
   "source": [
    "#checks the shape of the data \n",
    "vaccine_data.shape"
   ]
  },
  {
   "cell_type": "code",
   "execution_count": 8,
   "id": "bd658ccf",
   "metadata": {
    "execution": {
     "iopub.execute_input": "2021-10-12T05:40:00.920713Z",
     "iopub.status.busy": "2021-10-12T05:40:00.920040Z",
     "iopub.status.idle": "2021-10-12T05:40:00.922678Z",
     "shell.execute_reply": "2021-10-12T05:40:00.923142Z",
     "shell.execute_reply.started": "2021-10-11T22:55:43.222112Z"
    },
    "papermill": {
     "duration": 0.051803,
     "end_time": "2021-10-12T05:40:00.923327",
     "exception": false,
     "start_time": "2021-10-12T05:40:00.871524",
     "status": "completed"
    },
    "tags": []
   },
   "outputs": [
    {
     "data": {
      "text/html": [
       "<div>\n",
       "<style scoped>\n",
       "    .dataframe tbody tr th:only-of-type {\n",
       "        vertical-align: middle;\n",
       "    }\n",
       "\n",
       "    .dataframe tbody tr th {\n",
       "        vertical-align: top;\n",
       "    }\n",
       "\n",
       "    .dataframe thead th {\n",
       "        text-align: right;\n",
       "    }\n",
       "</style>\n",
       "<table border=\"1\" class=\"dataframe\">\n",
       "  <thead>\n",
       "    <tr style=\"text-align: right;\">\n",
       "      <th></th>\n",
       "      <th>country</th>\n",
       "      <th>iso_code</th>\n",
       "      <th>date</th>\n",
       "      <th>total_vaccinations</th>\n",
       "      <th>people_vaccinated</th>\n",
       "      <th>people_fully_vaccinated</th>\n",
       "      <th>daily_vaccinations_raw</th>\n",
       "      <th>daily_vaccinations</th>\n",
       "      <th>total_vaccinations_per_hundred</th>\n",
       "      <th>people_vaccinated_per_hundred</th>\n",
       "      <th>people_fully_vaccinated_per_hundred</th>\n",
       "      <th>daily_vaccinations_per_million</th>\n",
       "      <th>vaccines</th>\n",
       "      <th>source_name</th>\n",
       "      <th>source_website</th>\n",
       "    </tr>\n",
       "  </thead>\n",
       "  <tbody>\n",
       "    <tr>\n",
       "      <th>0</th>\n",
       "      <td>Afghanistan</td>\n",
       "      <td>AFG</td>\n",
       "      <td>2021-02-22</td>\n",
       "      <td>0.0</td>\n",
       "      <td>0.0</td>\n",
       "      <td>NaN</td>\n",
       "      <td>NaN</td>\n",
       "      <td>NaN</td>\n",
       "      <td>0.0</td>\n",
       "      <td>0.0</td>\n",
       "      <td>NaN</td>\n",
       "      <td>NaN</td>\n",
       "      <td>Johnson&amp;Johnson, Oxford/AstraZeneca, Pfizer/Bi...</td>\n",
       "      <td>World Health Organization</td>\n",
       "      <td>https://reliefweb.int/sites/reliefweb.int/file...</td>\n",
       "    </tr>\n",
       "    <tr>\n",
       "      <th>1</th>\n",
       "      <td>Afghanistan</td>\n",
       "      <td>AFG</td>\n",
       "      <td>2021-02-23</td>\n",
       "      <td>NaN</td>\n",
       "      <td>NaN</td>\n",
       "      <td>NaN</td>\n",
       "      <td>NaN</td>\n",
       "      <td>1367.0</td>\n",
       "      <td>NaN</td>\n",
       "      <td>NaN</td>\n",
       "      <td>NaN</td>\n",
       "      <td>34.0</td>\n",
       "      <td>Johnson&amp;Johnson, Oxford/AstraZeneca, Pfizer/Bi...</td>\n",
       "      <td>World Health Organization</td>\n",
       "      <td>https://reliefweb.int/sites/reliefweb.int/file...</td>\n",
       "    </tr>\n",
       "    <tr>\n",
       "      <th>2</th>\n",
       "      <td>Afghanistan</td>\n",
       "      <td>AFG</td>\n",
       "      <td>2021-02-24</td>\n",
       "      <td>NaN</td>\n",
       "      <td>NaN</td>\n",
       "      <td>NaN</td>\n",
       "      <td>NaN</td>\n",
       "      <td>1367.0</td>\n",
       "      <td>NaN</td>\n",
       "      <td>NaN</td>\n",
       "      <td>NaN</td>\n",
       "      <td>34.0</td>\n",
       "      <td>Johnson&amp;Johnson, Oxford/AstraZeneca, Pfizer/Bi...</td>\n",
       "      <td>World Health Organization</td>\n",
       "      <td>https://reliefweb.int/sites/reliefweb.int/file...</td>\n",
       "    </tr>\n",
       "    <tr>\n",
       "      <th>3</th>\n",
       "      <td>Afghanistan</td>\n",
       "      <td>AFG</td>\n",
       "      <td>2021-02-25</td>\n",
       "      <td>NaN</td>\n",
       "      <td>NaN</td>\n",
       "      <td>NaN</td>\n",
       "      <td>NaN</td>\n",
       "      <td>1367.0</td>\n",
       "      <td>NaN</td>\n",
       "      <td>NaN</td>\n",
       "      <td>NaN</td>\n",
       "      <td>34.0</td>\n",
       "      <td>Johnson&amp;Johnson, Oxford/AstraZeneca, Pfizer/Bi...</td>\n",
       "      <td>World Health Organization</td>\n",
       "      <td>https://reliefweb.int/sites/reliefweb.int/file...</td>\n",
       "    </tr>\n",
       "    <tr>\n",
       "      <th>4</th>\n",
       "      <td>Afghanistan</td>\n",
       "      <td>AFG</td>\n",
       "      <td>2021-02-26</td>\n",
       "      <td>NaN</td>\n",
       "      <td>NaN</td>\n",
       "      <td>NaN</td>\n",
       "      <td>NaN</td>\n",
       "      <td>1367.0</td>\n",
       "      <td>NaN</td>\n",
       "      <td>NaN</td>\n",
       "      <td>NaN</td>\n",
       "      <td>34.0</td>\n",
       "      <td>Johnson&amp;Johnson, Oxford/AstraZeneca, Pfizer/Bi...</td>\n",
       "      <td>World Health Organization</td>\n",
       "      <td>https://reliefweb.int/sites/reliefweb.int/file...</td>\n",
       "    </tr>\n",
       "  </tbody>\n",
       "</table>\n",
       "</div>"
      ],
      "text/plain": [
       "       country iso_code        date  total_vaccinations  people_vaccinated  \\\n",
       "0  Afghanistan      AFG  2021-02-22                 0.0                0.0   \n",
       "1  Afghanistan      AFG  2021-02-23                 NaN                NaN   \n",
       "2  Afghanistan      AFG  2021-02-24                 NaN                NaN   \n",
       "3  Afghanistan      AFG  2021-02-25                 NaN                NaN   \n",
       "4  Afghanistan      AFG  2021-02-26                 NaN                NaN   \n",
       "\n",
       "   people_fully_vaccinated  daily_vaccinations_raw  daily_vaccinations  \\\n",
       "0                      NaN                     NaN                 NaN   \n",
       "1                      NaN                     NaN              1367.0   \n",
       "2                      NaN                     NaN              1367.0   \n",
       "3                      NaN                     NaN              1367.0   \n",
       "4                      NaN                     NaN              1367.0   \n",
       "\n",
       "   total_vaccinations_per_hundred  people_vaccinated_per_hundred  \\\n",
       "0                             0.0                            0.0   \n",
       "1                             NaN                            NaN   \n",
       "2                             NaN                            NaN   \n",
       "3                             NaN                            NaN   \n",
       "4                             NaN                            NaN   \n",
       "\n",
       "   people_fully_vaccinated_per_hundred  daily_vaccinations_per_million  \\\n",
       "0                                  NaN                             NaN   \n",
       "1                                  NaN                            34.0   \n",
       "2                                  NaN                            34.0   \n",
       "3                                  NaN                            34.0   \n",
       "4                                  NaN                            34.0   \n",
       "\n",
       "                                            vaccines  \\\n",
       "0  Johnson&Johnson, Oxford/AstraZeneca, Pfizer/Bi...   \n",
       "1  Johnson&Johnson, Oxford/AstraZeneca, Pfizer/Bi...   \n",
       "2  Johnson&Johnson, Oxford/AstraZeneca, Pfizer/Bi...   \n",
       "3  Johnson&Johnson, Oxford/AstraZeneca, Pfizer/Bi...   \n",
       "4  Johnson&Johnson, Oxford/AstraZeneca, Pfizer/Bi...   \n",
       "\n",
       "                 source_name  \\\n",
       "0  World Health Organization   \n",
       "1  World Health Organization   \n",
       "2  World Health Organization   \n",
       "3  World Health Organization   \n",
       "4  World Health Organization   \n",
       "\n",
       "                                      source_website  \n",
       "0  https://reliefweb.int/sites/reliefweb.int/file...  \n",
       "1  https://reliefweb.int/sites/reliefweb.int/file...  \n",
       "2  https://reliefweb.int/sites/reliefweb.int/file...  \n",
       "3  https://reliefweb.int/sites/reliefweb.int/file...  \n",
       "4  https://reliefweb.int/sites/reliefweb.int/file...  "
      ]
     },
     "execution_count": 8,
     "metadata": {},
     "output_type": "execute_result"
    }
   ],
   "source": [
    "#Prints the first few rows from the dataset\n",
    "vaccine_data.head()"
   ]
  },
  {
   "cell_type": "code",
   "execution_count": 9,
   "id": "ec14334f",
   "metadata": {
    "execution": {
     "iopub.execute_input": "2021-10-12T05:40:00.993181Z",
     "iopub.status.busy": "2021-10-12T05:40:00.983655Z",
     "iopub.status.idle": "2021-10-12T05:40:00.996855Z",
     "shell.execute_reply": "2021-10-12T05:40:00.996115Z",
     "shell.execute_reply.started": "2021-10-11T22:55:43.250492Z"
    },
    "papermill": {
     "duration": 0.046151,
     "end_time": "2021-10-12T05:40:00.997001",
     "exception": false,
     "start_time": "2021-10-12T05:40:00.950850",
     "status": "completed"
    },
    "tags": []
   },
   "outputs": [
    {
     "data": {
      "text/plain": [
       "Denmark             389\n",
       "Latvia              388\n",
       "Norway              387\n",
       "China               377\n",
       "Canada              377\n",
       "                   ... \n",
       "Saint Helena         92\n",
       "Pitcairn             85\n",
       "Falkland Islands     67\n",
       "Burundi              66\n",
       "Niue                 43\n",
       "Name: country, Length: 223, dtype: int64"
      ]
     },
     "execution_count": 9,
     "metadata": {},
     "output_type": "execute_result"
    }
   ],
   "source": [
    "vaccine_data['country'].value_counts()"
   ]
  },
  {
   "cell_type": "code",
   "execution_count": 10,
   "id": "0f39c7c3",
   "metadata": {
    "execution": {
     "iopub.execute_input": "2021-10-12T05:40:01.057165Z",
     "iopub.status.busy": "2021-10-12T05:40:01.056504Z",
     "iopub.status.idle": "2021-10-12T05:40:01.098217Z",
     "shell.execute_reply": "2021-10-12T05:40:01.098702Z",
     "shell.execute_reply.started": "2021-10-11T22:55:43.274795Z"
    },
    "papermill": {
     "duration": 0.073622,
     "end_time": "2021-10-12T05:40:01.098877",
     "exception": false,
     "start_time": "2021-10-12T05:40:01.025255",
     "status": "completed"
    },
    "tags": []
   },
   "outputs": [
    {
     "data": {
      "text/plain": [
       "country                                0.000000\n",
       "iso_code                               0.000000\n",
       "date                                   0.000000\n",
       "total_vaccinations                     0.474265\n",
       "people_vaccinated                      0.496653\n",
       "people_fully_vaccinated                0.536047\n",
       "daily_vaccinations_raw                 0.571762\n",
       "daily_vaccinations                     0.005518\n",
       "total_vaccinations_per_hundred         0.474265\n",
       "people_vaccinated_per_hundred          0.496653\n",
       "people_fully_vaccinated_per_hundred    0.536047\n",
       "daily_vaccinations_per_million         0.005518\n",
       "vaccines                               0.000000\n",
       "source_name                            0.000000\n",
       "source_website                         0.000000\n",
       "dtype: float64"
      ]
     },
     "execution_count": 10,
     "metadata": {},
     "output_type": "execute_result"
    }
   ],
   "source": [
    "#Shows percentage of how many missing values are in each column.\n",
    "vaccine_data.isnull().sum() / vaccine_data.shape[0]"
   ]
  },
  {
   "cell_type": "markdown",
   "id": "9ad7f06a",
   "metadata": {
    "papermill": {
     "duration": 0.028136,
     "end_time": "2021-10-12T05:40:01.155111",
     "exception": false,
     "start_time": "2021-10-12T05:40:01.126975",
     "status": "completed"
    },
    "tags": []
   },
   "source": [
    "## Data Cleaning \n",
    "### Creating new dataframes with subdata for different topics of interest"
   ]
  },
  {
   "cell_type": "code",
   "execution_count": 11,
   "id": "0197e759",
   "metadata": {
    "execution": {
     "iopub.execute_input": "2021-10-12T05:40:01.215406Z",
     "iopub.status.busy": "2021-10-12T05:40:01.214685Z",
     "iopub.status.idle": "2021-10-12T05:40:01.273564Z",
     "shell.execute_reply": "2021-10-12T05:40:01.273999Z",
     "shell.execute_reply.started": "2021-10-11T22:55:43.326164Z"
    },
    "papermill": {
     "duration": 0.0906,
     "end_time": "2021-10-12T05:40:01.274165",
     "exception": false,
     "start_time": "2021-10-12T05:40:01.183565",
     "status": "completed"
    },
    "tags": []
   },
   "outputs": [
    {
     "data": {
      "text/plain": [
       "country                                0\n",
       "iso_code                               0\n",
       "date                                   0\n",
       "total_vaccinations                     0\n",
       "people_vaccinated                      0\n",
       "people_fully_vaccinated                0\n",
       "daily_vaccinations_raw                 0\n",
       "daily_vaccinations                     0\n",
       "total_vaccinations_per_hundred         0\n",
       "people_vaccinated_per_hundred          0\n",
       "people_fully_vaccinated_per_hundred    0\n",
       "daily_vaccinations_per_million         0\n",
       "vaccines                               0\n",
       "source_name                            0\n",
       "source_website                         0\n",
       "dtype: int64"
      ]
     },
     "execution_count": 11,
     "metadata": {},
     "output_type": "execute_result"
    }
   ],
   "source": [
    "#Drops the missing values in the dataframe\n",
    "clean_vaccine_data = vaccine_data.dropna()\n",
    "\n",
    "#Checks to see if the above line worked (it did)\n",
    "clean_vaccine_data.isnull().sum()"
   ]
  },
  {
   "cell_type": "code",
   "execution_count": 12,
   "id": "57864c3d",
   "metadata": {
    "execution": {
     "iopub.execute_input": "2021-10-12T05:40:01.334688Z",
     "iopub.status.busy": "2021-10-12T05:40:01.334053Z",
     "iopub.status.idle": "2021-10-12T05:40:01.343846Z",
     "shell.execute_reply": "2021-10-12T05:40:01.343049Z",
     "shell.execute_reply.started": "2021-10-11T22:55:43.391003Z"
    },
    "papermill": {
     "duration": 0.041485,
     "end_time": "2021-10-12T05:40:01.344034",
     "exception": false,
     "start_time": "2021-10-12T05:40:01.302549",
     "status": "completed"
    },
    "tags": []
   },
   "outputs": [
    {
     "name": "stdout",
     "output_type": "stream",
     "text": [
      "         country        date  total_vaccinations\n",
      "94   Afghanistan  2021-05-27            593313.0\n",
      "101  Afghanistan  2021-06-03            630305.0\n",
      "318      Albania  2021-02-18              3049.0\n",
      "400      Albania  2021-05-11            622507.0\n",
      "401      Albania  2021-05-12            632676.0\n"
     ]
    }
   ],
   "source": [
    "#This line puts two columns in dataframe and drops rows with NA values.\n",
    "sub_data = clean_vaccine_data[[\"country\",\"date\",\"total_vaccinations\"]]\n",
    "\n",
    "print(sub_data.head(5))"
   ]
  },
  {
   "cell_type": "code",
   "execution_count": 13,
   "id": "77015bc5",
   "metadata": {
    "execution": {
     "iopub.execute_input": "2021-10-12T05:40:01.411987Z",
     "iopub.status.busy": "2021-10-12T05:40:01.411192Z",
     "iopub.status.idle": "2021-10-12T05:40:01.416966Z",
     "shell.execute_reply": "2021-10-12T05:40:01.417461Z",
     "shell.execute_reply.started": "2021-10-11T22:55:43.403433Z"
    },
    "papermill": {
     "duration": 0.043576,
     "end_time": "2021-10-12T05:40:01.417639",
     "exception": false,
     "start_time": "2021-10-12T05:40:01.374063",
     "status": "completed"
    },
    "tags": []
   },
   "outputs": [
    {
     "data": {
      "text/plain": [
       "country               0\n",
       "date                  0\n",
       "total_vaccinations    0\n",
       "dtype: int64"
      ]
     },
     "execution_count": 13,
     "metadata": {},
     "output_type": "execute_result"
    }
   ],
   "source": [
    "#Double checks to see if sub dataframe was done correctly\n",
    "sub_data.isnull().sum()"
   ]
  },
  {
   "cell_type": "code",
   "execution_count": 14,
   "id": "14258695",
   "metadata": {
    "execution": {
     "iopub.execute_input": "2021-10-12T05:40:01.480157Z",
     "iopub.status.busy": "2021-10-12T05:40:01.479471Z",
     "iopub.status.idle": "2021-10-12T05:40:01.484559Z",
     "shell.execute_reply": "2021-10-12T05:40:01.483954Z",
     "shell.execute_reply.started": "2021-10-11T22:55:43.42475Z"
    },
    "papermill": {
     "duration": 0.037666,
     "end_time": "2021-10-12T05:40:01.484699",
     "exception": false,
     "start_time": "2021-10-12T05:40:01.447033",
     "status": "completed"
    },
    "tags": []
   },
   "outputs": [
    {
     "data": {
      "text/plain": [
       "(24759, 3)"
      ]
     },
     "execution_count": 14,
     "metadata": {},
     "output_type": "execute_result"
    }
   ],
   "source": [
    "#Double checks the shape of the subset dataframe \n",
    "sub_data.shape"
   ]
  },
  {
   "cell_type": "code",
   "execution_count": 15,
   "id": "bb4a7d25",
   "metadata": {
    "execution": {
     "iopub.execute_input": "2021-10-12T05:40:01.548086Z",
     "iopub.status.busy": "2021-10-12T05:40:01.547467Z",
     "iopub.status.idle": "2021-10-12T05:40:01.563856Z",
     "shell.execute_reply": "2021-10-12T05:40:01.564314Z",
     "shell.execute_reply.started": "2021-10-11T22:55:43.432629Z"
    },
    "papermill": {
     "duration": 0.050074,
     "end_time": "2021-10-12T05:40:01.564494",
     "exception": false,
     "start_time": "2021-10-12T05:40:01.514420",
     "status": "completed"
    },
    "tags": []
   },
   "outputs": [
    {
     "data": {
      "text/html": [
       "<div>\n",
       "<style scoped>\n",
       "    .dataframe tbody tr th:only-of-type {\n",
       "        vertical-align: middle;\n",
       "    }\n",
       "\n",
       "    .dataframe tbody tr th {\n",
       "        vertical-align: top;\n",
       "    }\n",
       "\n",
       "    .dataframe thead th {\n",
       "        text-align: right;\n",
       "    }\n",
       "</style>\n",
       "<table border=\"1\" class=\"dataframe\">\n",
       "  <thead>\n",
       "    <tr style=\"text-align: right;\">\n",
       "      <th></th>\n",
       "      <th>country</th>\n",
       "      <th>date</th>\n",
       "      <th>total_vaccinations</th>\n",
       "    </tr>\n",
       "  </thead>\n",
       "  <tbody>\n",
       "    <tr>\n",
       "      <th>63203</th>\n",
       "      <td>United States</td>\n",
       "      <td>2020-12-14</td>\n",
       "      <td>28547.0</td>\n",
       "    </tr>\n",
       "    <tr>\n",
       "      <th>63204</th>\n",
       "      <td>United States</td>\n",
       "      <td>2020-12-15</td>\n",
       "      <td>77567.0</td>\n",
       "    </tr>\n",
       "    <tr>\n",
       "      <th>63205</th>\n",
       "      <td>United States</td>\n",
       "      <td>2020-12-16</td>\n",
       "      <td>236843.0</td>\n",
       "    </tr>\n",
       "    <tr>\n",
       "      <th>63206</th>\n",
       "      <td>United States</td>\n",
       "      <td>2020-12-17</td>\n",
       "      <td>508232.0</td>\n",
       "    </tr>\n",
       "    <tr>\n",
       "      <th>63207</th>\n",
       "      <td>United States</td>\n",
       "      <td>2020-12-18</td>\n",
       "      <td>922368.0</td>\n",
       "    </tr>\n",
       "    <tr>\n",
       "      <th>...</th>\n",
       "      <td>...</td>\n",
       "      <td>...</td>\n",
       "      <td>...</td>\n",
       "    </tr>\n",
       "    <tr>\n",
       "      <th>63573</th>\n",
       "      <td>United States</td>\n",
       "      <td>2021-12-19</td>\n",
       "      <td>497402001.0</td>\n",
       "    </tr>\n",
       "    <tr>\n",
       "      <th>63574</th>\n",
       "      <td>United States</td>\n",
       "      <td>2021-12-20</td>\n",
       "      <td>498963090.0</td>\n",
       "    </tr>\n",
       "    <tr>\n",
       "      <th>63575</th>\n",
       "      <td>United States</td>\n",
       "      <td>2021-12-21</td>\n",
       "      <td>500063936.0</td>\n",
       "    </tr>\n",
       "    <tr>\n",
       "      <th>63576</th>\n",
       "      <td>United States</td>\n",
       "      <td>2021-12-22</td>\n",
       "      <td>500222328.0</td>\n",
       "    </tr>\n",
       "    <tr>\n",
       "      <th>63577</th>\n",
       "      <td>United States</td>\n",
       "      <td>2021-12-23</td>\n",
       "      <td>500222330.0</td>\n",
       "    </tr>\n",
       "  </tbody>\n",
       "</table>\n",
       "<p>375 rows × 3 columns</p>\n",
       "</div>"
      ],
      "text/plain": [
       "             country        date  total_vaccinations\n",
       "63203  United States  2020-12-14             28547.0\n",
       "63204  United States  2020-12-15             77567.0\n",
       "63205  United States  2020-12-16            236843.0\n",
       "63206  United States  2020-12-17            508232.0\n",
       "63207  United States  2020-12-18            922368.0\n",
       "...              ...         ...                 ...\n",
       "63573  United States  2021-12-19         497402001.0\n",
       "63574  United States  2021-12-20         498963090.0\n",
       "63575  United States  2021-12-21         500063936.0\n",
       "63576  United States  2021-12-22         500222328.0\n",
       "63577  United States  2021-12-23         500222330.0\n",
       "\n",
       "[375 rows x 3 columns]"
      ]
     },
     "execution_count": 15,
     "metadata": {},
     "output_type": "execute_result"
    }
   ],
   "source": [
    "#Subsets United States data from the original data set.\n",
    "US_data = sub_data.loc[sub_data[\"country\"] == \"United States\"]\n",
    "#prints the subset data frame to prepare for plotting\n",
    "US_data"
   ]
  },
  {
   "cell_type": "code",
   "execution_count": 16,
   "id": "8e487dd1",
   "metadata": {
    "execution": {
     "iopub.execute_input": "2021-10-12T05:40:01.627531Z",
     "iopub.status.busy": "2021-10-12T05:40:01.626892Z",
     "iopub.status.idle": "2021-10-12T05:40:01.634494Z",
     "shell.execute_reply": "2021-10-12T05:40:01.633904Z",
     "shell.execute_reply.started": "2021-10-11T22:55:43.459597Z"
    },
    "papermill": {
     "duration": 0.040043,
     "end_time": "2021-10-12T05:40:01.634635",
     "exception": false,
     "start_time": "2021-10-12T05:40:01.594592",
     "status": "completed"
    },
    "tags": []
   },
   "outputs": [
    {
     "data": {
      "text/plain": [
       "63203        28547.0\n",
       "63204        77567.0\n",
       "63205       236843.0\n",
       "63206       508232.0\n",
       "63207       922368.0\n",
       "            ...     \n",
       "63573    497402001.0\n",
       "63574    498963090.0\n",
       "63575    500063936.0\n",
       "63576    500222328.0\n",
       "63577    500222330.0\n",
       "Name: total_vaccinations, Length: 375, dtype: float64"
      ]
     },
     "execution_count": 16,
     "metadata": {},
     "output_type": "execute_result"
    }
   ],
   "source": [
    "#changes the total_vaccinations column from string elements to integer elements.\n",
    "pd.to_numeric(US_data[\"total_vaccinations\"])"
   ]
  },
  {
   "cell_type": "markdown",
   "id": "857b4745",
   "metadata": {
    "papermill": {
     "duration": 0.030136,
     "end_time": "2021-10-12T05:40:01.695507",
     "exception": false,
     "start_time": "2021-10-12T05:40:01.665371",
     "status": "completed"
    },
    "tags": []
   },
   "source": [
    "## Creating Visuals to represent data"
   ]
  },
  {
   "cell_type": "code",
   "execution_count": 17,
   "id": "2146598c",
   "metadata": {
    "execution": {
     "iopub.execute_input": "2021-10-12T05:40:01.779983Z",
     "iopub.status.busy": "2021-10-12T05:40:01.779261Z",
     "iopub.status.idle": "2021-10-12T05:40:02.140717Z",
     "shell.execute_reply": "2021-10-12T05:40:02.140085Z",
     "shell.execute_reply.started": "2021-10-11T22:55:43.475664Z"
    },
    "papermill": {
     "duration": 0.414809,
     "end_time": "2021-10-12T05:40:02.140866",
     "exception": false,
     "start_time": "2021-10-12T05:40:01.726057",
     "status": "completed"
    },
    "tags": []
   },
   "outputs": [
    {
     "data": {
      "image/png": "[encoded data removed]",
      "text/plain": [
       "<Figure size 432x288 with 1 Axes>"
      ]
     },
     "metadata": {
      "needs_background": "light"
     },
     "output_type": "display_data"
    }
   ],
   "source": [
    "#Plots the graph of US Total Vaccinations. \n",
    "#MATPLOTLIB GRAPH\n",
    "\n",
    "x = US_data[\"date\"]\n",
    "y = US_data[\"total_vaccinations\"]\n",
    "\n",
    "plt.plot(x,y)\n",
    "ax = plt.gca()\n",
    "ax.get_yaxis().get_major_formatter().set_scientific(False)\n",
    "plt.xticks(np.arange(0, len(x), step = 10), rotation = 45)\n",
    "plt.ylim(0,max(y))\n",
    "plt.title(\"US Vaccinations in Total\")\n",
    "plt.xlabel(\"Date\")\n",
    "plt.ylabel(\"Total vaccinations\")\n",
    "\n",
    "plt.show()"
   ]
  },
  {
   "cell_type": "code",
   "execution_count": 18,
   "id": "bfeaf6b2",
   "metadata": {
    "execution": {
     "iopub.execute_input": "2021-10-12T05:40:02.233877Z",
     "iopub.status.busy": "2021-10-12T05:40:02.233155Z",
     "iopub.status.idle": "2021-10-12T05:40:03.678356Z",
     "shell.execute_reply": "2021-10-12T05:40:03.678882Z",
     "shell.execute_reply.started": "2021-10-11T22:55:43.87609Z"
    },
    "papermill": {
     "duration": 1.506048,
     "end_time": "2021-10-12T05:40:03.679055",
     "exception": false,
     "start_time": "2021-10-12T05:40:02.173007",
     "status": "completed"
    },
    "tags": []
   },
   "outputs": [
    {
     "data": {
      "text/plain": [
       "Text(0, 0.5, 'Total Vaccinations')"
      ]
     },
     "execution_count": 18,
     "metadata": {},
     "output_type": "execute_result"
    },
    {
     "data": {
      "image/png": "[encoded data removed]",
      "text/plain": [
       "<Figure size 1440x432 with 1 Axes>"
      ]
     },
     "metadata": {
      "needs_background": "light"
     },
     "output_type": "display_data"
    }
   ],
   "source": [
    "#SEABORN GRAPH\n",
    "\n",
    "plt.figure(figsize = (20,6))\n",
    "plt.title(\"US Total Vaccinations\")\n",
    "sns.scatterplot(x = US_data['date'], y = US_data['total_vaccinations'])\n",
    "ax = plt.gca()\n",
    "ax.get_yaxis().get_major_formatter().set_scientific(False)\n",
    "plt.xticks(np.arange(0, len(x), step = 5), rotation = 45)\n",
    "plt.xlabel(\"Date\")\n",
    "plt.ylabel(\"Total Vaccinations\")"
   ]
  },
  {
   "cell_type": "code",
   "execution_count": 19,
   "id": "21b1e2cb",
   "metadata": {
    "execution": {
     "iopub.execute_input": "2021-10-12T05:40:03.755666Z",
     "iopub.status.busy": "2021-10-12T05:40:03.754971Z",
     "iopub.status.idle": "2021-10-12T05:40:03.757500Z",
     "shell.execute_reply": "2021-10-12T05:40:03.757973Z",
     "shell.execute_reply.started": "2021-10-11T22:55:45.461187Z"
    },
    "papermill": {
     "duration": 0.04332,
     "end_time": "2021-10-12T05:40:03.758129",
     "exception": false,
     "start_time": "2021-10-12T05:40:03.714809",
     "status": "completed"
    },
    "tags": []
   },
   "outputs": [
    {
     "data": {
      "text/plain": [
       "['country',\n",
       " 'iso_code',\n",
       " 'date',\n",
       " 'total_vaccinations',\n",
       " 'people_vaccinated',\n",
       " 'people_fully_vaccinated',\n",
       " 'daily_vaccinations_raw',\n",
       " 'daily_vaccinations',\n",
       " 'total_vaccinations_per_hundred',\n",
       " 'people_vaccinated_per_hundred',\n",
       " 'people_fully_vaccinated_per_hundred',\n",
       " 'daily_vaccinations_per_million',\n",
       " 'vaccines',\n",
       " 'source_name',\n",
       " 'source_website']"
      ]
     },
     "execution_count": 19,
     "metadata": {},
     "output_type": "execute_result"
    }
   ],
   "source": [
    "list(vaccine_data.columns)"
   ]
  },
  {
   "cell_type": "code",
   "execution_count": 20,
   "id": "3975e14b",
   "metadata": {
    "execution": {
     "iopub.execute_input": "2021-10-12T05:40:03.827967Z",
     "iopub.status.busy": "2021-10-12T05:40:03.827352Z",
     "iopub.status.idle": "2021-10-12T05:40:08.873806Z",
     "shell.execute_reply": "2021-10-12T05:40:08.874342Z",
     "shell.execute_reply.started": "2021-10-11T22:55:45.471388Z"
    },
    "papermill": {
     "duration": 5.083076,
     "end_time": "2021-10-12T05:40:08.874526",
     "exception": false,
     "start_time": "2021-10-12T05:40:03.791450",
     "status": "completed"
    },
    "tags": []
   },
   "outputs": [
    {
     "ename": "ValueError",
     "evalue": "autodetected range of [-inf, 7.116299311971558] is not finite",
     "output_type": "error",
     "traceback": [
      "\u001b[1;31m---------------------------------------------------------------------------\u001b[0m",
      "\u001b[1;31mValueError\u001b[0m                                Traceback (most recent call last)",
      "\u001b[1;32m<ipython-input-20-684ca0575f00>\u001b[0m in \u001b[0;36m<module>\u001b[1;34m\u001b[0m\n\u001b[0;32m     12\u001b[0m \u001b[0mcovid_features\u001b[0m \u001b[1;33m=\u001b[0m \u001b[0mclean_vaccine_data\u001b[0m\u001b[1;33m[\u001b[0m\u001b[1;33m[\u001b[0m\u001b[1;34m'date'\u001b[0m\u001b[1;33m,\u001b[0m \u001b[1;34m'total_vacc'\u001b[0m\u001b[1;33m,\u001b[0m \u001b[1;34m'people_vacc'\u001b[0m \u001b[1;33m,\u001b[0m \u001b[1;34m'people_fully_vacc'\u001b[0m \u001b[1;33m,\u001b[0m \u001b[1;34m'daily_vacc'\u001b[0m\u001b[1;33m]\u001b[0m\u001b[1;33m]\u001b[0m\u001b[1;33m\u001b[0m\u001b[1;33m\u001b[0m\u001b[0m\n\u001b[0;32m     13\u001b[0m \u001b[0msns\u001b[0m\u001b[1;33m.\u001b[0m\u001b[0mset_theme\u001b[0m\u001b[1;33m(\u001b[0m\u001b[0mstyle\u001b[0m\u001b[1;33m=\u001b[0m\u001b[1;34m\"ticks\"\u001b[0m\u001b[1;33m)\u001b[0m\u001b[1;33m\u001b[0m\u001b[1;33m\u001b[0m\u001b[0m\n\u001b[1;32m---> 14\u001b[1;33m \u001b[0msns\u001b[0m\u001b[1;33m.\u001b[0m\u001b[0mpairplot\u001b[0m\u001b[1;33m(\u001b[0m\u001b[0mcovid_features\u001b[0m\u001b[1;33m)\u001b[0m\u001b[1;33m\u001b[0m\u001b[1;33m\u001b[0m\u001b[0m\n\u001b[0m",
      "\u001b[1;32m~\\anaconda3\\lib\\site-packages\\seaborn\\_decorators.py\u001b[0m in \u001b[0;36minner_f\u001b[1;34m(*args, **kwargs)\u001b[0m\n\u001b[0;32m     44\u001b[0m             )\n\u001b[0;32m     45\u001b[0m         \u001b[0mkwargs\u001b[0m\u001b[1;33m.\u001b[0m\u001b[0mupdate\u001b[0m\u001b[1;33m(\u001b[0m\u001b[1;33m{\u001b[0m\u001b[0mk\u001b[0m\u001b[1;33m:\u001b[0m \u001b[0marg\u001b[0m \u001b[1;32mfor\u001b[0m \u001b[0mk\u001b[0m\u001b[1;33m,\u001b[0m \u001b[0marg\u001b[0m \u001b[1;32min\u001b[0m \u001b[0mzip\u001b[0m\u001b[1;33m(\u001b[0m\u001b[0msig\u001b[0m\u001b[1;33m.\u001b[0m\u001b[0mparameters\u001b[0m\u001b[1;33m,\u001b[0m \u001b[0margs\u001b[0m\u001b[1;33m)\u001b[0m\u001b[1;33m}\u001b[0m\u001b[1;33m)\u001b[0m\u001b[1;33m\u001b[0m\u001b[1;33m\u001b[0m\u001b[0m\n\u001b[1;32m---> 46\u001b[1;33m         \u001b[1;32mreturn\u001b[0m \u001b[0mf\u001b[0m\u001b[1;33m(\u001b[0m\u001b[1;33m**\u001b[0m\u001b[0mkwargs\u001b[0m\u001b[1;33m)\u001b[0m\u001b[1;33m\u001b[0m\u001b[1;33m\u001b[0m\u001b[0m\n\u001b[0m\u001b[0;32m     47\u001b[0m     \u001b[1;32mreturn\u001b[0m \u001b[0minner_f\u001b[0m\u001b[1;33m\u001b[0m\u001b[1;33m\u001b[0m\u001b[0m\n\u001b[0;32m     48\u001b[0m \u001b[1;33m\u001b[0m\u001b[0m\n",
      "\u001b[1;32m~\\anaconda3\\lib\\site-packages\\seaborn\\axisgrid.py\u001b[0m in \u001b[0;36mpairplot\u001b[1;34m(data, hue, hue_order, palette, vars, x_vars, y_vars, kind, diag_kind, markers, height, aspect, corner, dropna, plot_kws, diag_kws, grid_kws, size)\u001b[0m\n\u001b[0;32m   2017\u001b[0m     \u001b[0mdiag_kws\u001b[0m\u001b[1;33m.\u001b[0m\u001b[0msetdefault\u001b[0m\u001b[1;33m(\u001b[0m\u001b[1;34m\"legend\"\u001b[0m\u001b[1;33m,\u001b[0m \u001b[1;32mFalse\u001b[0m\u001b[1;33m)\u001b[0m\u001b[1;33m\u001b[0m\u001b[1;33m\u001b[0m\u001b[0m\n\u001b[0;32m   2018\u001b[0m     \u001b[1;32mif\u001b[0m \u001b[0mdiag_kind\u001b[0m \u001b[1;33m==\u001b[0m \u001b[1;34m\"hist\"\u001b[0m\u001b[1;33m:\u001b[0m\u001b[1;33m\u001b[0m\u001b[1;33m\u001b[0m\u001b[0m\n\u001b[1;32m-> 2019\u001b[1;33m         \u001b[0mgrid\u001b[0m\u001b[1;33m.\u001b[0m\u001b[0mmap_diag\u001b[0m\u001b[1;33m(\u001b[0m\u001b[0mhistplot\u001b[0m\u001b[1;33m,\u001b[0m \u001b[1;33m**\u001b[0m\u001b[0mdiag_kws\u001b[0m\u001b[1;33m)\u001b[0m\u001b[1;33m\u001b[0m\u001b[1;33m\u001b[0m\u001b[0m\n\u001b[0m\u001b[0;32m   2020\u001b[0m     \u001b[1;32melif\u001b[0m \u001b[0mdiag_kind\u001b[0m \u001b[1;33m==\u001b[0m \u001b[1;34m\"kde\"\u001b[0m\u001b[1;33m:\u001b[0m\u001b[1;33m\u001b[0m\u001b[1;33m\u001b[0m\u001b[0m\n\u001b[0;32m   2021\u001b[0m         \u001b[0mdiag_kws\u001b[0m\u001b[1;33m.\u001b[0m\u001b[0msetdefault\u001b[0m\u001b[1;33m(\u001b[0m\u001b[1;34m\"fill\"\u001b[0m\u001b[1;33m,\u001b[0m \u001b[1;32mTrue\u001b[0m\u001b[1;33m)\u001b[0m\u001b[1;33m\u001b[0m\u001b[1;33m\u001b[0m\u001b[0m\n",
      "\u001b[1;32m~\\anaconda3\\lib\\site-packages\\seaborn\\axisgrid.py\u001b[0m in \u001b[0;36mmap_diag\u001b[1;34m(self, func, **kwargs)\u001b[0m\n\u001b[0;32m   1400\u001b[0m             \u001b[0mplot_kwargs\u001b[0m\u001b[1;33m.\u001b[0m\u001b[0msetdefault\u001b[0m\u001b[1;33m(\u001b[0m\u001b[1;34m\"hue_order\"\u001b[0m\u001b[1;33m,\u001b[0m \u001b[0mself\u001b[0m\u001b[1;33m.\u001b[0m\u001b[0m_hue_order\u001b[0m\u001b[1;33m)\u001b[0m\u001b[1;33m\u001b[0m\u001b[1;33m\u001b[0m\u001b[0m\n\u001b[0;32m   1401\u001b[0m             \u001b[0mplot_kwargs\u001b[0m\u001b[1;33m.\u001b[0m\u001b[0msetdefault\u001b[0m\u001b[1;33m(\u001b[0m\u001b[1;34m\"palette\"\u001b[0m\u001b[1;33m,\u001b[0m \u001b[0mself\u001b[0m\u001b[1;33m.\u001b[0m\u001b[0m_orig_palette\u001b[0m\u001b[1;33m)\u001b[0m\u001b[1;33m\u001b[0m\u001b[1;33m\u001b[0m\u001b[0m\n\u001b[1;32m-> 1402\u001b[1;33m             \u001b[0mfunc\u001b[0m\u001b[1;33m(\u001b[0m\u001b[0mx\u001b[0m\u001b[1;33m=\u001b[0m\u001b[0mvector\u001b[0m\u001b[1;33m,\u001b[0m \u001b[1;33m**\u001b[0m\u001b[0mplot_kwargs\u001b[0m\u001b[1;33m)\u001b[0m\u001b[1;33m\u001b[0m\u001b[1;33m\u001b[0m\u001b[0m\n\u001b[0m\u001b[0;32m   1403\u001b[0m             \u001b[0mself\u001b[0m\u001b[1;33m.\u001b[0m\u001b[0m_clean_axis\u001b[0m\u001b[1;33m(\u001b[0m\u001b[0max\u001b[0m\u001b[1;33m)\u001b[0m\u001b[1;33m\u001b[0m\u001b[1;33m\u001b[0m\u001b[0m\n\u001b[0;32m   1404\u001b[0m \u001b[1;33m\u001b[0m\u001b[0m\n",
      "\u001b[1;32m~\\anaconda3\\lib\\site-packages\\seaborn\\distributions.py\u001b[0m in \u001b[0;36mhistplot\u001b[1;34m(data, x, y, hue, weights, stat, bins, binwidth, binrange, discrete, cumulative, common_bins, common_norm, multiple, element, fill, shrink, kde, kde_kws, line_kws, thresh, pthresh, pmax, cbar, cbar_ax, cbar_kws, palette, hue_order, hue_norm, color, log_scale, legend, ax, **kwargs)\u001b[0m\n\u001b[0;32m   1421\u001b[0m     \u001b[1;32mif\u001b[0m \u001b[0mp\u001b[0m\u001b[1;33m.\u001b[0m\u001b[0munivariate\u001b[0m\u001b[1;33m:\u001b[0m\u001b[1;33m\u001b[0m\u001b[1;33m\u001b[0m\u001b[0m\n\u001b[0;32m   1422\u001b[0m \u001b[1;33m\u001b[0m\u001b[0m\n\u001b[1;32m-> 1423\u001b[1;33m         p.plot_univariate_histogram(\n\u001b[0m\u001b[0;32m   1424\u001b[0m             \u001b[0mmultiple\u001b[0m\u001b[1;33m=\u001b[0m\u001b[0mmultiple\u001b[0m\u001b[1;33m,\u001b[0m\u001b[1;33m\u001b[0m\u001b[1;33m\u001b[0m\u001b[0m\n\u001b[0;32m   1425\u001b[0m             \u001b[0melement\u001b[0m\u001b[1;33m=\u001b[0m\u001b[0melement\u001b[0m\u001b[1;33m,\u001b[0m\u001b[1;33m\u001b[0m\u001b[1;33m\u001b[0m\u001b[0m\n",
      "\u001b[1;32m~\\anaconda3\\lib\\site-packages\\seaborn\\distributions.py\u001b[0m in \u001b[0;36mplot_univariate_histogram\u001b[1;34m(self, multiple, element, fill, common_norm, common_bins, shrink, kde, kde_kws, color, legend, line_kws, estimate_kws, **plot_kws)\u001b[0m\n\u001b[0;32m    435\u001b[0m \u001b[1;33m\u001b[0m\u001b[0m\n\u001b[0;32m    436\u001b[0m             \u001b[1;31m# Do the histogram computation\u001b[0m\u001b[1;33m\u001b[0m\u001b[1;33m\u001b[0m\u001b[1;33m\u001b[0m\u001b[0m\n\u001b[1;32m--> 437\u001b[1;33m             \u001b[0mheights\u001b[0m\u001b[1;33m,\u001b[0m \u001b[0medges\u001b[0m \u001b[1;33m=\u001b[0m \u001b[0mestimator\u001b[0m\u001b[1;33m(\u001b[0m\u001b[0mobservations\u001b[0m\u001b[1;33m,\u001b[0m \u001b[0mweights\u001b[0m\u001b[1;33m=\u001b[0m\u001b[0mweights\u001b[0m\u001b[1;33m)\u001b[0m\u001b[1;33m\u001b[0m\u001b[1;33m\u001b[0m\u001b[0m\n\u001b[0m\u001b[0;32m    438\u001b[0m \u001b[1;33m\u001b[0m\u001b[0m\n\u001b[0;32m    439\u001b[0m             \u001b[1;31m# Rescale the smoothed curve to match the histogram\u001b[0m\u001b[1;33m\u001b[0m\u001b[1;33m\u001b[0m\u001b[1;33m\u001b[0m\u001b[0m\n",
      "\u001b[1;32m~\\anaconda3\\lib\\site-packages\\seaborn\\_statistics.py\u001b[0m in \u001b[0;36m__call__\u001b[1;34m(self, x1, x2, weights)\u001b[0m\n\u001b[0;32m    369\u001b[0m         \u001b[1;34m\"\"\"Count the occurrances in each bin, maybe normalize.\"\"\"\u001b[0m\u001b[1;33m\u001b[0m\u001b[1;33m\u001b[0m\u001b[0m\n\u001b[0;32m    370\u001b[0m         \u001b[1;32mif\u001b[0m \u001b[0mx2\u001b[0m \u001b[1;32mis\u001b[0m \u001b[1;32mNone\u001b[0m\u001b[1;33m:\u001b[0m\u001b[1;33m\u001b[0m\u001b[1;33m\u001b[0m\u001b[0m\n\u001b[1;32m--> 371\u001b[1;33m             \u001b[1;32mreturn\u001b[0m \u001b[0mself\u001b[0m\u001b[1;33m.\u001b[0m\u001b[0m_eval_univariate\u001b[0m\u001b[1;33m(\u001b[0m\u001b[0mx1\u001b[0m\u001b[1;33m,\u001b[0m \u001b[0mweights\u001b[0m\u001b[1;33m)\u001b[0m\u001b[1;33m\u001b[0m\u001b[1;33m\u001b[0m\u001b[0m\n\u001b[0m\u001b[0;32m    372\u001b[0m         \u001b[1;32melse\u001b[0m\u001b[1;33m:\u001b[0m\u001b[1;33m\u001b[0m\u001b[1;33m\u001b[0m\u001b[0m\n\u001b[0;32m    373\u001b[0m             \u001b[1;32mreturn\u001b[0m \u001b[0mself\u001b[0m\u001b[1;33m.\u001b[0m\u001b[0m_eval_bivariate\u001b[0m\u001b[1;33m(\u001b[0m\u001b[0mx1\u001b[0m\u001b[1;33m,\u001b[0m \u001b[0mx2\u001b[0m\u001b[1;33m,\u001b[0m \u001b[0mweights\u001b[0m\u001b[1;33m)\u001b[0m\u001b[1;33m\u001b[0m\u001b[1;33m\u001b[0m\u001b[0m\n",
      "\u001b[1;32m~\\anaconda3\\lib\\site-packages\\seaborn\\_statistics.py\u001b[0m in \u001b[0;36m_eval_univariate\u001b[1;34m(self, x, weights)\u001b[0m\n\u001b[0;32m    346\u001b[0m         \u001b[0mbin_edges\u001b[0m \u001b[1;33m=\u001b[0m \u001b[0mself\u001b[0m\u001b[1;33m.\u001b[0m\u001b[0mbin_edges\u001b[0m\u001b[1;33m\u001b[0m\u001b[1;33m\u001b[0m\u001b[0m\n\u001b[0;32m    347\u001b[0m         \u001b[1;32mif\u001b[0m \u001b[0mbin_edges\u001b[0m \u001b[1;32mis\u001b[0m \u001b[1;32mNone\u001b[0m\u001b[1;33m:\u001b[0m\u001b[1;33m\u001b[0m\u001b[1;33m\u001b[0m\u001b[0m\n\u001b[1;32m--> 348\u001b[1;33m             \u001b[0mbin_edges\u001b[0m \u001b[1;33m=\u001b[0m \u001b[0mself\u001b[0m\u001b[1;33m.\u001b[0m\u001b[0mdefine_bin_edges\u001b[0m\u001b[1;33m(\u001b[0m\u001b[0mx\u001b[0m\u001b[1;33m,\u001b[0m \u001b[0mweights\u001b[0m\u001b[1;33m=\u001b[0m\u001b[0mweights\u001b[0m\u001b[1;33m,\u001b[0m \u001b[0mcache\u001b[0m\u001b[1;33m=\u001b[0m\u001b[1;32mFalse\u001b[0m\u001b[1;33m)\u001b[0m\u001b[1;33m\u001b[0m\u001b[1;33m\u001b[0m\u001b[0m\n\u001b[0m\u001b[0;32m    349\u001b[0m \u001b[1;33m\u001b[0m\u001b[0m\n\u001b[0;32m    350\u001b[0m         \u001b[0mdensity\u001b[0m \u001b[1;33m=\u001b[0m \u001b[0mself\u001b[0m\u001b[1;33m.\u001b[0m\u001b[0mstat\u001b[0m \u001b[1;33m==\u001b[0m \u001b[1;34m\"density\"\u001b[0m\u001b[1;33m\u001b[0m\u001b[1;33m\u001b[0m\u001b[0m\n",
      "\u001b[1;32m~\\anaconda3\\lib\\site-packages\\seaborn\\_statistics.py\u001b[0m in \u001b[0;36mdefine_bin_edges\u001b[1;34m(self, x1, x2, weights, cache)\u001b[0m\n\u001b[0;32m    263\u001b[0m         \u001b[1;32mif\u001b[0m \u001b[0mx2\u001b[0m \u001b[1;32mis\u001b[0m \u001b[1;32mNone\u001b[0m\u001b[1;33m:\u001b[0m\u001b[1;33m\u001b[0m\u001b[1;33m\u001b[0m\u001b[0m\n\u001b[0;32m    264\u001b[0m \u001b[1;33m\u001b[0m\u001b[0m\n\u001b[1;32m--> 265\u001b[1;33m             bin_edges = self._define_bin_edges(\n\u001b[0m\u001b[0;32m    266\u001b[0m                 \u001b[0mx1\u001b[0m\u001b[1;33m,\u001b[0m \u001b[0mweights\u001b[0m\u001b[1;33m,\u001b[0m \u001b[0mself\u001b[0m\u001b[1;33m.\u001b[0m\u001b[0mbins\u001b[0m\u001b[1;33m,\u001b[0m \u001b[0mself\u001b[0m\u001b[1;33m.\u001b[0m\u001b[0mbinwidth\u001b[0m\u001b[1;33m,\u001b[0m \u001b[0mself\u001b[0m\u001b[1;33m.\u001b[0m\u001b[0mbinrange\u001b[0m\u001b[1;33m,\u001b[0m \u001b[0mself\u001b[0m\u001b[1;33m.\u001b[0m\u001b[0mdiscrete\u001b[0m\u001b[1;33m,\u001b[0m\u001b[1;33m\u001b[0m\u001b[1;33m\u001b[0m\u001b[0m\n\u001b[0;32m    267\u001b[0m             )\n",
      "\u001b[1;32m~\\anaconda3\\lib\\site-packages\\seaborn\\_statistics.py\u001b[0m in \u001b[0;36m_define_bin_edges\u001b[1;34m(self, x, weights, bins, binwidth, binrange, discrete)\u001b[0m\n\u001b[0;32m    254\u001b[0m             \u001b[0mbin_edges\u001b[0m \u001b[1;33m=\u001b[0m \u001b[0mnp\u001b[0m\u001b[1;33m.\u001b[0m\u001b[0marange\u001b[0m\u001b[1;33m(\u001b[0m\u001b[0mstart\u001b[0m\u001b[1;33m,\u001b[0m \u001b[0mstop\u001b[0m \u001b[1;33m+\u001b[0m \u001b[0mstep\u001b[0m\u001b[1;33m,\u001b[0m \u001b[0mstep\u001b[0m\u001b[1;33m)\u001b[0m\u001b[1;33m\u001b[0m\u001b[1;33m\u001b[0m\u001b[0m\n\u001b[0;32m    255\u001b[0m         \u001b[1;32melse\u001b[0m\u001b[1;33m:\u001b[0m\u001b[1;33m\u001b[0m\u001b[1;33m\u001b[0m\u001b[0m\n\u001b[1;32m--> 256\u001b[1;33m             bin_edges = np.histogram_bin_edges(\n\u001b[0m\u001b[0;32m    257\u001b[0m                 \u001b[0mx\u001b[0m\u001b[1;33m,\u001b[0m \u001b[0mbins\u001b[0m\u001b[1;33m,\u001b[0m \u001b[0mbinrange\u001b[0m\u001b[1;33m,\u001b[0m \u001b[0mweights\u001b[0m\u001b[1;33m,\u001b[0m\u001b[1;33m\u001b[0m\u001b[1;33m\u001b[0m\u001b[0m\n\u001b[0;32m    258\u001b[0m             )\n",
      "\u001b[1;32m<__array_function__ internals>\u001b[0m in \u001b[0;36mhistogram_bin_edges\u001b[1;34m(*args, **kwargs)\u001b[0m\n",
      "\u001b[1;32m~\\anaconda3\\lib\\site-packages\\numpy\\lib\\histograms.py\u001b[0m in \u001b[0;36mhistogram_bin_edges\u001b[1;34m(a, bins, range, weights)\u001b[0m\n\u001b[0;32m    666\u001b[0m     \"\"\"\n\u001b[0;32m    667\u001b[0m     \u001b[0ma\u001b[0m\u001b[1;33m,\u001b[0m \u001b[0mweights\u001b[0m \u001b[1;33m=\u001b[0m \u001b[0m_ravel_and_check_weights\u001b[0m\u001b[1;33m(\u001b[0m\u001b[0ma\u001b[0m\u001b[1;33m,\u001b[0m \u001b[0mweights\u001b[0m\u001b[1;33m)\u001b[0m\u001b[1;33m\u001b[0m\u001b[1;33m\u001b[0m\u001b[0m\n\u001b[1;32m--> 668\u001b[1;33m     \u001b[0mbin_edges\u001b[0m\u001b[1;33m,\u001b[0m \u001b[0m_\u001b[0m \u001b[1;33m=\u001b[0m \u001b[0m_get_bin_edges\u001b[0m\u001b[1;33m(\u001b[0m\u001b[0ma\u001b[0m\u001b[1;33m,\u001b[0m \u001b[0mbins\u001b[0m\u001b[1;33m,\u001b[0m \u001b[0mrange\u001b[0m\u001b[1;33m,\u001b[0m \u001b[0mweights\u001b[0m\u001b[1;33m)\u001b[0m\u001b[1;33m\u001b[0m\u001b[1;33m\u001b[0m\u001b[0m\n\u001b[0m\u001b[0;32m    669\u001b[0m     \u001b[1;32mreturn\u001b[0m \u001b[0mbin_edges\u001b[0m\u001b[1;33m\u001b[0m\u001b[1;33m\u001b[0m\u001b[0m\n\u001b[0;32m    670\u001b[0m \u001b[1;33m\u001b[0m\u001b[0m\n",
      "\u001b[1;32m~\\anaconda3\\lib\\site-packages\\numpy\\lib\\histograms.py\u001b[0m in \u001b[0;36m_get_bin_edges\u001b[1;34m(a, bins, range, weights)\u001b[0m\n\u001b[0;32m    394\u001b[0m                             \"bins is not supported for weighted data\")\n\u001b[0;32m    395\u001b[0m \u001b[1;33m\u001b[0m\u001b[0m\n\u001b[1;32m--> 396\u001b[1;33m         \u001b[0mfirst_edge\u001b[0m\u001b[1;33m,\u001b[0m \u001b[0mlast_edge\u001b[0m \u001b[1;33m=\u001b[0m \u001b[0m_get_outer_edges\u001b[0m\u001b[1;33m(\u001b[0m\u001b[0ma\u001b[0m\u001b[1;33m,\u001b[0m \u001b[0mrange\u001b[0m\u001b[1;33m)\u001b[0m\u001b[1;33m\u001b[0m\u001b[1;33m\u001b[0m\u001b[0m\n\u001b[0m\u001b[0;32m    397\u001b[0m \u001b[1;33m\u001b[0m\u001b[0m\n\u001b[0;32m    398\u001b[0m         \u001b[1;31m# truncate the range if needed\u001b[0m\u001b[1;33m\u001b[0m\u001b[1;33m\u001b[0m\u001b[1;33m\u001b[0m\u001b[0m\n",
      "\u001b[1;32m~\\anaconda3\\lib\\site-packages\\numpy\\lib\\histograms.py\u001b[0m in \u001b[0;36m_get_outer_edges\u001b[1;34m(a, range)\u001b[0m\n\u001b[0;32m    321\u001b[0m         \u001b[0mfirst_edge\u001b[0m\u001b[1;33m,\u001b[0m \u001b[0mlast_edge\u001b[0m \u001b[1;33m=\u001b[0m \u001b[0ma\u001b[0m\u001b[1;33m.\u001b[0m\u001b[0mmin\u001b[0m\u001b[1;33m(\u001b[0m\u001b[1;33m)\u001b[0m\u001b[1;33m,\u001b[0m \u001b[0ma\u001b[0m\u001b[1;33m.\u001b[0m\u001b[0mmax\u001b[0m\u001b[1;33m(\u001b[0m\u001b[1;33m)\u001b[0m\u001b[1;33m\u001b[0m\u001b[1;33m\u001b[0m\u001b[0m\n\u001b[0;32m    322\u001b[0m         \u001b[1;32mif\u001b[0m \u001b[1;32mnot\u001b[0m \u001b[1;33m(\u001b[0m\u001b[0mnp\u001b[0m\u001b[1;33m.\u001b[0m\u001b[0misfinite\u001b[0m\u001b[1;33m(\u001b[0m\u001b[0mfirst_edge\u001b[0m\u001b[1;33m)\u001b[0m \u001b[1;32mand\u001b[0m \u001b[0mnp\u001b[0m\u001b[1;33m.\u001b[0m\u001b[0misfinite\u001b[0m\u001b[1;33m(\u001b[0m\u001b[0mlast_edge\u001b[0m\u001b[1;33m)\u001b[0m\u001b[1;33m)\u001b[0m\u001b[1;33m:\u001b[0m\u001b[1;33m\u001b[0m\u001b[1;33m\u001b[0m\u001b[0m\n\u001b[1;32m--> 323\u001b[1;33m             raise ValueError(\n\u001b[0m\u001b[0;32m    324\u001b[0m                 \"autodetected range of [{}, {}] is not finite\".format(first_edge, last_edge))\n\u001b[0;32m    325\u001b[0m \u001b[1;33m\u001b[0m\u001b[0m\n",
      "\u001b[1;31mValueError\u001b[0m: autodetected range of [-inf, 7.116299311971558] is not finite"
     ]
    },
    {
     "data": {
      "image/png": "[encoded data removed]",
      "text/plain": [
       "<Figure size 720x720 with 20 Axes>"
      ]
     },
     "metadata": {},
     "output_type": "display_data"
    }
   ],
   "source": [
    "#Plotting scatterplot matrix using Seaborn \n",
    "#create dataframe with important features.\n",
    "clean_vaccine_data['total_vacc'] = np.log10(clean_vaccine_data['total_vaccinations'])\n",
    "clean_vaccine_data['people_vacc'] = np.log10(clean_vaccine_data['people_vaccinated'])\n",
    "clean_vaccine_data['people_fully_vacc'] = np.log10(clean_vaccine_data['people_fully_vaccinated'])\n",
    "clean_vaccine_data['daily_vacc'] = np.log10(clean_vaccine_data['daily_vaccinations'])\n",
    "\n",
    "#drop the original nontransformed columns\n",
    "clean_vaccine_data = clean_vaccine_data.drop(columns = ['total_vaccinations','people_vaccinated','people_fully_vaccinated', 'daily_vaccinations'])\n",
    "\n",
    "\n",
    "covid_features = clean_vaccine_data[['date', 'total_vacc', 'people_vacc' , 'people_fully_vacc' , 'daily_vacc']]\n",
    "sns.set_theme(style=\"ticks\")\n",
    "sns.pairplot(covid_features)\n"
   ]
  },
  {
   "cell_type": "code",
   "execution_count": null,
   "id": "952e6446",
   "metadata": {
    "execution": {
     "iopub.execute_input": "2021-10-12T05:40:08.960257Z",
     "iopub.status.busy": "2021-10-12T05:40:08.959634Z",
     "iopub.status.idle": "2021-10-12T05:40:08.962361Z",
     "shell.execute_reply": "2021-10-12T05:40:08.962836Z",
     "shell.execute_reply.started": "2021-10-11T23:07:49.924175Z"
    },
    "papermill": {
     "duration": 0.047502,
     "end_time": "2021-10-12T05:40:08.963002",
     "exception": false,
     "start_time": "2021-10-12T05:40:08.915500",
     "status": "completed"
    },
    "tags": []
   },
   "outputs": [],
   "source": [
    "#Plotting scatterplot matrix with pandas.plotting \n",
    "# *NOTE* \n",
    "#This plot gives an error in kaggle. Leave this uncommented until further fix.\n",
    "\n",
    "#plot = pd.plotting.scatter_matrix(covid_features)"
   ]
  },
  {
   "cell_type": "code",
   "execution_count": null,
   "id": "fa4b7dfb",
   "metadata": {
    "execution": {
     "iopub.execute_input": "2021-10-12T05:40:09.049658Z",
     "iopub.status.busy": "2021-10-12T05:40:09.048682Z",
     "iopub.status.idle": "2021-10-12T05:40:09.059828Z",
     "shell.execute_reply": "2021-10-12T05:40:09.059332Z",
     "shell.execute_reply.started": "2021-10-11T23:01:42.410036Z"
    },
    "papermill": {
     "duration": 0.056246,
     "end_time": "2021-10-12T05:40:09.059964",
     "exception": false,
     "start_time": "2021-10-12T05:40:09.003718",
     "status": "completed"
    },
    "tags": []
   },
   "outputs": [],
   "source": [
    "# Lets us see which countries we can pick to make a world progress map\n",
    "list(clean_vaccine_data.country.unique())"
   ]
  },
  {
   "cell_type": "code",
   "execution_count": null,
   "id": "01e68ec1",
   "metadata": {
    "execution": {
     "iopub.execute_input": "2021-10-12T05:40:09.169868Z",
     "iopub.status.busy": "2021-10-12T05:40:09.168879Z",
     "iopub.status.idle": "2021-10-12T05:40:09.171921Z",
     "shell.execute_reply": "2021-10-12T05:40:09.171421Z",
     "shell.execute_reply.started": "2021-10-11T23:01:46.8357Z"
    },
    "papermill": {
     "duration": 0.070845,
     "end_time": "2021-10-12T05:40:09.172067",
     "exception": false,
     "start_time": "2021-10-12T05:40:09.101222",
     "status": "completed"
    },
    "tags": []
   },
   "outputs": [],
   "source": [
    "#Subsets United States data from the original data set.\n",
    "US_data = sub_data.loc[sub_data[\"country\"] == \"United States\"]\n",
    "\n",
    "#Subsets Mexico data from the original data set.\n",
    "Mexico_data = sub_data.loc[sub_data[\"country\"] == \"Mexico\"]\n",
    "\n",
    "#Subsets Canada data from the original data set.\n",
    "Canada_data = sub_data.loc[sub_data[\"country\"] == \"Canada\"]\n",
    "\n",
    "#Subsets UK data from the original data set.\n",
    "UK_data = sub_data.loc[sub_data[\"country\"] == \"United Kingdom\"]\n",
    "\n",
    "#Subsets China data from the original data set.\n",
    "China_data = sub_data.loc[sub_data[\"country\"] == \"China\"]\n",
    "\n",
    "#Subsets India data from the original data set.\n",
    "India_data = sub_data.loc[sub_data[\"country\"] == \"India\"]"
   ]
  },
  {
   "cell_type": "code",
   "execution_count": null,
   "id": "8742da49",
   "metadata": {
    "execution": {
     "iopub.execute_input": "2021-10-12T05:40:09.262612Z",
     "iopub.status.busy": "2021-10-12T05:40:09.261623Z",
     "iopub.status.idle": "2021-10-12T05:40:09.264714Z",
     "shell.execute_reply": "2021-10-12T05:40:09.264195Z",
     "shell.execute_reply.started": "2021-10-11T23:01:55.812184Z"
    },
    "papermill": {
     "duration": 0.051442,
     "end_time": "2021-10-12T05:40:09.264868",
     "exception": false,
     "start_time": "2021-10-12T05:40:09.213426",
     "status": "completed"
    },
    "tags": []
   },
   "outputs": [],
   "source": [
    "# Combines all the 5 countries' data into one dataframe (vertically/row wise)\n",
    "world_countries = pd.concat([US_data, Mexico_data, Canada_data, UK_data, China_data, India_data], axis = 0)\n",
    "\n",
    "# a quick check to see if selected 3 columns are present and 5 countires are present in the country column\n",
    "#world_countries['country'].unique()\n",
    "#world_countries.columns\n"
   ]
  },
  {
   "cell_type": "markdown",
   "id": "cccf87ef",
   "metadata": {
    "papermill": {
     "duration": 0.041252,
     "end_time": "2021-10-12T05:40:09.347942",
     "exception": false,
     "start_time": "2021-10-12T05:40:09.306690",
     "status": "completed"
    },
    "tags": []
   },
   "source": [
    "## With close inspectation we see that there is are few data points for China. This would mean further analysis of the data should be done to discover why China does not have a steady line present like the other countries. One assumption would be that the data was not provided."
   ]
  },
  {
   "cell_type": "code",
   "execution_count": null,
   "id": "6143e50b",
   "metadata": {
    "execution": {
     "iopub.execute_input": "2021-10-12T05:40:09.489170Z",
     "iopub.status.busy": "2021-10-12T05:40:09.469044Z",
     "iopub.status.idle": "2021-10-12T05:40:11.125767Z",
     "shell.execute_reply": "2021-10-12T05:40:11.126247Z",
     "shell.execute_reply.started": "2021-10-11T23:01:56.920754Z"
    },
    "papermill": {
     "duration": 1.736361,
     "end_time": "2021-10-12T05:40:11.126429",
     "exception": false,
     "start_time": "2021-10-12T05:40:09.390068",
     "status": "completed"
    },
    "tags": []
   },
   "outputs": [],
   "source": [
    "# Scatterplot\n",
    "plt.figure(figsize = (12,6))\n",
    "plt.title(\"Total Vaccines per country\")\n",
    "sns.scatterplot(x = world_countries['date'], y = world_countries['total_vaccinations'], hue = world_countries['country'])\n",
    "ax = plt.gca()\n",
    "ax.get_yaxis().get_major_formatter().set_scientific(False)\n",
    "plt.xticks(np.arange(0, len(x), step = 5), rotation = 45)\n",
    "plt.xlabel(\"Date\")\n",
    "plt.ylabel(\"Total Vaccinations\")\n",
    "#plt.legend()"
   ]
  },
  {
   "cell_type": "code",
   "execution_count": null,
   "id": "ece8f9dd",
   "metadata": {
    "execution": {
     "iopub.execute_input": "2021-10-12T05:40:11.222815Z",
     "iopub.status.busy": "2021-10-12T05:40:11.221920Z",
     "iopub.status.idle": "2021-10-12T05:40:11.226108Z",
     "shell.execute_reply": "2021-10-12T05:40:11.225616Z",
     "shell.execute_reply.started": "2021-10-11T23:02:00.008881Z"
    },
    "papermill": {
     "duration": 0.055073,
     "end_time": "2021-10-12T05:40:11.226246",
     "exception": false,
     "start_time": "2021-10-12T05:40:11.171173",
     "status": "completed"
    },
    "tags": []
   },
   "outputs": [],
   "source": [
    "#checks to see how many data points are in the China dataframe in the date column\n",
    "len(China_data['date'])"
   ]
  },
  {
   "cell_type": "code",
   "execution_count": null,
   "id": "e350d8e4",
   "metadata": {
    "execution": {
     "iopub.execute_input": "2021-10-12T05:40:11.334426Z",
     "iopub.status.busy": "2021-10-12T05:40:11.333459Z",
     "iopub.status.idle": "2021-10-12T05:40:11.337498Z",
     "shell.execute_reply": "2021-10-12T05:40:11.336874Z",
     "shell.execute_reply.started": "2021-10-11T23:02:03.828024Z"
    },
    "papermill": {
     "duration": 0.066446,
     "end_time": "2021-10-12T05:40:11.337635",
     "exception": false,
     "start_time": "2021-10-12T05:40:11.271189",
     "status": "completed"
    },
    "tags": []
   },
   "outputs": [],
   "source": [
    "temp = vaccine_data.loc[vaccine_data['country'] == 'China']\n",
    "temp_data = temp[['date', 'country', 'total_vaccinations']]\n",
    "temp_data.isnull().sum()\n",
    "temp_data.shape"
   ]
  },
  {
   "cell_type": "code",
   "execution_count": null,
   "id": "e718a99e",
   "metadata": {
    "execution": {
     "iopub.execute_input": "2021-10-12T05:40:11.472538Z",
     "iopub.status.busy": "2021-10-12T05:40:11.471589Z",
     "iopub.status.idle": "2021-10-12T05:40:12.869198Z",
     "shell.execute_reply": "2021-10-12T05:40:12.868581Z",
     "shell.execute_reply.started": "2021-10-11T23:02:05.605995Z"
    },
    "papermill": {
     "duration": 1.4858,
     "end_time": "2021-10-12T05:40:12.869376",
     "exception": false,
     "start_time": "2021-10-12T05:40:11.383576",
     "status": "completed"
    },
    "tags": []
   },
   "outputs": [],
   "source": [
    "plt.figure(figsize = (20,6))\n",
    "plt.title(\"China Total Vaccinations\")\n",
    "sns.scatterplot(x = temp_data['date'], y = temp_data['total_vaccinations'])\n",
    "ax = plt.gca()\n",
    "ax.get_yaxis().get_major_formatter().set_scientific(False)\n",
    "plt.xticks(np.arange(0, len(x), step = 5), rotation = 45)\n",
    "plt.xlabel(\"Date\")\n",
    "plt.ylabel(\"Total Vaccinations\")"
   ]
  },
  {
   "cell_type": "code",
   "execution_count": null,
   "id": "c9552b7f",
   "metadata": {
    "execution": {
     "iopub.execute_input": "2021-10-12T05:40:12.981961Z",
     "iopub.status.busy": "2021-10-12T05:40:12.981260Z",
     "iopub.status.idle": "2021-10-12T05:40:12.985320Z",
     "shell.execute_reply": "2021-10-12T05:40:12.984794Z",
     "shell.execute_reply.started": "2021-10-11T23:02:07.309684Z"
    },
    "papermill": {
     "duration": 0.067143,
     "end_time": "2021-10-12T05:40:12.985469",
     "exception": false,
     "start_time": "2021-10-12T05:40:12.918326",
     "status": "completed"
    },
    "tags": []
   },
   "outputs": [],
   "source": [
    "# Combines all the 5 countries' data into one dataframe (vertically/row wise)\n",
    "world_countries = pd.concat([US_data, Mexico_data, Canada_data, UK_data, temp_data, India_data], axis = 0)\n",
    "world_countries.head()"
   ]
  },
  {
   "cell_type": "code",
   "execution_count": null,
   "id": "60fa7aa8",
   "metadata": {
    "execution": {
     "iopub.execute_input": "2021-10-12T05:40:13.122310Z",
     "iopub.status.busy": "2021-10-12T05:40:13.120459Z",
     "iopub.status.idle": "2021-10-12T05:40:14.178374Z",
     "shell.execute_reply": "2021-10-12T05:40:14.179105Z",
     "shell.execute_reply.started": "2021-10-11T23:03:32.444454Z"
    },
    "papermill": {
     "duration": 1.145343,
     "end_time": "2021-10-12T05:40:14.179330",
     "exception": false,
     "start_time": "2021-10-12T05:40:13.033987",
     "status": "completed"
    },
    "tags": []
   },
   "outputs": [],
   "source": [
    "# Scatterplot of Bi\n",
    "plt.figure(figsize = (12,6))\n",
    "plt.title(\"biweekly Total Vaccinations per country\")\n",
    "sns.scatterplot(x = world_countries['date'], y = world_countries['total_vaccinations'], hue = world_countries['country'])\n",
    "ax = plt.gca()\n",
    "ax.get_yaxis().get_major_formatter().set_scientific(False)\n",
    "plt.xticks(np.arange(0, len(x), step = 14), rotation = 45)\n",
    "plt.xlabel(\"Date\")\n",
    "plt.ylabel(\"Total Vaccinations\")"
   ]
  },
  {
   "cell_type": "code",
   "execution_count": null,
   "id": "13b6e84c",
   "metadata": {
    "papermill": {
     "duration": 0.052367,
     "end_time": "2021-10-12T05:40:14.288048",
     "exception": false,
     "start_time": "2021-10-12T05:40:14.235681",
     "status": "completed"
    },
    "tags": []
   },
   "outputs": [],
   "source": []
  }
 ],
 "metadata": {
  "kernelspec": {
   "display_name": "Python 3",
   "language": "python",
   "name": "python3"
  },
  "language_info": {
   "codemirror_mode": {
    "name": "ipython",
    "version": 3
   },
   "file_extension": ".py",
   "mimetype": "text/x-python",
   "name": "python",
   "nbconvert_exporter": "python",
   "pygments_lexer": "ipython3",
   "version": "3.8.8"
  },
  "papermill": {
   "default_parameters": {},
   "duration": 24.786985,
   "end_time": "2021-10-12T05:40:15.748020",
   "environment_variables": {},
   "exception": null,
   "input_path": "__notebook__.ipynb",
   "output_path": "__notebook__.ipynb",
   "parameters": {},
   "start_time": "2021-10-12T05:39:50.961035",
   "version": "2.3.3"
  }
 },
 "nbformat": 4,
 "nbformat_minor": 5
}
